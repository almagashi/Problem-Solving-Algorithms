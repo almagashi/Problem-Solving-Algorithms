{
  "nbformat": 4,
  "nbformat_minor": 0,
  "metadata": {
    "colab": {
      "name": "Final Project: Pots of Gold",
      "provenance": [],
      "collapsed_sections": [],
      "include_colab_link": true
    },
    "kernelspec": {
      "name": "python3",
      "display_name": "Python 3"
    }
  },
  "cells": [
    {
      "cell_type": "markdown",
      "metadata": {
        "id": "view-in-github",
        "colab_type": "text"
      },
      "source": [
        "<a href=\"https://colab.research.google.com/github/almagashi/Problem-Solving-Algorithms/blob/master/Final_Project_Pots_of_Gold.ipynb\" target=\"_parent\"><img src=\"https://colab.research.google.com/assets/colab-badge.svg\" alt=\"Open In Colab\"/></a>"
      ]
    },
    {
      "cell_type": "markdown",
      "metadata": {
        "id": "VusO_uCCBT_u",
        "colab_type": "text"
      },
      "source": [
        "# **Pots of Gold**"
      ]
    },
    {
      "cell_type": "markdown",
      "metadata": {
        "id": "fQZiT02lBmvu",
        "colab_type": "text"
      },
      "source": [
        "## **Define the problem:**"
      ]
    },
    {
      "cell_type": "markdown",
      "metadata": {
        "id": "EtAVyCJ3Fv08",
        "colab_type": "text"
      },
      "source": [
        "There are n-pots arranged in a line in front of two players. Each pot contains a certain value of coins. Both players are going to play optimally to maximize their profit by following the rules of the game which are: \n",
        "\n",
        "> You can either pick a pot from the beginning or the end.\n",
        "\n",
        "> You must take alternating turns.\n",
        "\n",
        " Both players are able to see how many coins are there in each pot. An optimal strategy is one that maximizes one's profit and opponent's loss simultaneously. Although both players will play optimally, we cannot predict with certainty which is our opponent's next move. In this case, the utility of both of the players remains the same (maximum number of coins), but they can choose different strategies to solve this problem. \n",
        "\n",
        " This is a decision-making problem. There are many decisions to be made from both players until there are no pots left. Each decision has the same choices; choose first pot or end pot. If we find an optimal strategy for the first decision we need to make, we can use that strategy for all the other decisions as their structure and choices do not change - it's a repeated problem. Some might go for best choice at hand (maximax behaviour), and some might choose the best choice for the future (minimax behaviour).\n",
        "\n",
        " Further we will analyze different types of solutions for the same problem."
      ]
    },
    {
      "cell_type": "markdown",
      "metadata": {
        "id": "tVshR21CB2hb",
        "colab_type": "text"
      },
      "source": [
        "![image.png](data:image/png;base64,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)"
      ]
    },
    {
      "cell_type": "markdown",
      "metadata": {
        "id": "MvF8eEZKGxSI",
        "colab_type": "text"
      },
      "source": [
        "Figure 1. The Pots of Gold game from the Player's A perspective.\n",
        "\n",
        "[Note: Probabilities will change once we use elements and not indices]"
      ]
    },
    {
      "cell_type": "markdown",
      "metadata": {
        "id": "2cS2QJHiCQSi",
        "colab_type": "text"
      },
      "source": [
        "## **Candidate Dynamic Programming solutions:**"
      ]
    },
    {
      "cell_type": "markdown",
      "metadata": {
        "id": "rvjI4QLJK30k",
        "colab_type": "text"
      },
      "source": [
        "Such problems can be solved using Dynamic Programming because there is an overlapping problem and optimal substructure solution.\n",
        "\n",
        "\n",
        "> **Overlapping problem**: The goal is to maximize your profit. However, this includes that the other player's profit is being minimized. Dynamic Programming provides solutions to tackle both problems simultaneously. \n",
        "\n",
        "\n",
        "\n",
        "> **Optimal Substructure:** As mentioned earlier, the problem is a series of decisions which have the same options to choose from. If we find an optimal way to make one of the decisions, then we can apply the same strategy to all the other decisions to be made.\n",
        "\n",
        "Below, you will find three dynamic programming solutions, from two approaches:\n",
        "\n",
        "1. **Top-down**: break the problem recursively until we find the optimal solution.\n",
        "2. **Bottom-up**: solve broken pieces of the problem, save them, and find the best strategy to follow for the next same problems.\n",
        "\n",
        "\n"
      ]
    },
    {
      "cell_type": "markdown",
      "metadata": {
        "id": "y6xzwqSuYYUU",
        "colab_type": "text"
      },
      "source": [
        "### **Top-down approach with  exponential time complexity:**"
      ]
    },
    {
      "cell_type": "code",
      "metadata": {
        "id": "hz81hJZiuGjU",
        "colab_type": "code",
        "colab": {}
      },
      "source": [
        "def optimalStrategy1(coins, i, j):\n",
        "  '''\n",
        "  Recursive function to maximize the number of coins collected\n",
        "  by a player, assuming that opponent also plays optimally\n",
        "\n",
        "  Input: \n",
        "\n",
        "  - coins(list): the number of coins in each pot\n",
        "  - i,j: index of the list\n",
        "\n",
        "  Output:\n",
        "\n",
        "  - Best strategy to play (int): number of coins collected\n",
        "  '''\n",
        "\n",
        "  # base case: one pot is left\n",
        "  if i == j:\n",
        "      return coins[i]\n",
        "\n",
        "  # another case: two pots are left\n",
        "  if (i + 1) == j:\n",
        "      return max(coins[i], coins[j])\n",
        "\n",
        "  ### If player A chooses pot i, player B has to choose ###\n",
        "  ### from [i+1, j]. ###\n",
        "  # Case 1: if player B chooses pot i+1, player A can choose [i+2, j] \n",
        "  # Case 2: if player B chooses pot j, player A can choose [i+1, j-1] \n",
        "\n",
        "  start = coins[i] + min(optimalStrategy1(coins, i+2, j),\n",
        "                        optimalStrategy1(coins, i+1, j-1))\n",
        "  \n",
        "  ### If player A chooses pot j, player B has to choose [i, j-1]. ###\n",
        "  # Case 1: if player B chooses pot i, player A can choose [i+1, j-1] \n",
        "  # Case 2: if player B chooses pot j-1, player A can choose [i, j-2]\n",
        "\n",
        "  end = coins[j] + min(optimalStrategy1(coins, i+1, j-1),\n",
        "                        optimalStrategy1(coins, i, j-2))\n",
        "  \n",
        "  # return maximum of two choices\n",
        "  return max(start, end)\n"
      ],
      "execution_count": 0,
      "outputs": []
    },
    {
      "cell_type": "markdown",
      "metadata": {
        "id": "0WT3yC1J8uG5",
        "colab_type": "text"
      },
      "source": [
        "####**Computational Solution Critique:**"
      ]
    },
    {
      "cell_type": "markdown",
      "metadata": {
        "id": "N_kVl8nd83FA",
        "colab_type": "text"
      },
      "source": [
        "The first solution is practical for small input as its time complexity is exponential. The algorithm will take longer as the number of pots increases. In real life, someone can use this solution if the pots of gold are up to 10, because if the input is larger it will need more time to process.\n",
        "\n",
        "**Strengths:**\n",
        "\n",
        "*   It provides the results of the best strategy to follow for Player A while taking into consideration the pool of options for the Player B for each possible decision taken.\n",
        "*   It is a general solution. It works for any number of pots (or any length of the list).\n",
        "\n",
        "**Weaknesses:**\n",
        "\n",
        "* It is highly dependent on the arguments of the function. Index i and j are irrelevant to the solution, therefore the algorithm should be constructed in such a way that these two arguments are picked from the list automatically.\n",
        "* It is dependent on the size of input. As input increases, the algorithms' performance decreases (runtime increases).\n",
        "\n",
        "**Improvements:**\n",
        "\n",
        "* The function should be restructured to take less arguments, and less time to perform the operations for bigger input. An improvement in time complexity, wihtout trading off the optimal solution, would be a huge improvement for this algorithm."
      ]
    },
    {
      "cell_type": "markdown",
      "metadata": {
        "id": "NlEBADoL8kmG",
        "colab_type": "text"
      },
      "source": [
        "#### **Time Complexity Explanation**:"
      ]
    },
    {
      "cell_type": "markdown",
      "metadata": {
        "id": "P--GIIUr0EVT",
        "colab_type": "text"
      },
      "source": [
        "All the operations in this function are done in constant time, except\n",
        "\n",
        "\n",
        "\n",
        "```\n",
        "start = coins[i] + min(optimalStrategy1(coins, i+2, j),\n",
        "                        optimalStrategy1(coins, i+1, j-1))\n",
        "```\n",
        "\n",
        "and\n",
        "\n",
        "\n",
        "\n",
        "```\n",
        "  end = coins[j] + min(optimalStrategy1(coins, i+1, j-1),\n",
        "                        optimalStrategy1(coins, i, j-2))'\n",
        "```\n",
        "which take *n-times*, since the function calls the list and goes through it. The function chooses only one strategy to follow, either start or end. Thus, the complexity of this function is exponential O(2<sup>n</sup>).\n",
        "\n",
        "---\n",
        "\n",
        "The auxiliary space is O(1).\n",
        "\n",
        "\n",
        "\n"
      ]
    },
    {
      "cell_type": "markdown",
      "metadata": {
        "id": "-3IYnyh7ujsG",
        "colab_type": "text"
      },
      "source": [
        "### **Top-down approach with quadaratic time complexity:**\n",
        "\n"
      ]
    },
    {
      "cell_type": "code",
      "metadata": {
        "id": "h36q6VU4uBo8",
        "colab_type": "code",
        "colab": {}
      },
      "source": [
        "def optimalStrategy2(coin):\n",
        "  ''' \n",
        "  This function return the sum of maximum possible collection of coins.\n",
        "\n",
        "  Input:\n",
        "\n",
        "  - coin (list): a list of pots with their coins values\n",
        "\n",
        "  Output:\n",
        "\n",
        "  - maximum number of coins collected following the best strategy (int)\n",
        "  '''\n",
        "\n",
        "  # check if there is no coin, then return 0\n",
        "  if not coin:\n",
        "        return 0\n",
        "  # create an empty list for storage and use the optimal substructure\n",
        "  # which is presented by the next function\n",
        "  rep = [[0] * len(coin) for _ in range(len(coin))]\n",
        "  return optimalStrategy2a(coin, 0, len(coin) - 1, rep)\n",
        "\n",
        "\n",
        "def optimalStrategy2a(coin, i, j, rep):\n",
        "\n",
        "  '''\n",
        "  This function creates the optimal substructure solution,\n",
        "  which will be followed to solve the whole problem.\n",
        "\n",
        "  Input:\n",
        "\n",
        "  - coin (list): list of pots with their coins' values\n",
        "  - i, j: index of the list\n",
        "  - rep: empty list to be filled from the function\n",
        "\n",
        "  Output:\n",
        "\n",
        "  - subproblem solution(ind)\n",
        "  '''\n",
        "\n",
        "    # base case: one pot is left\n",
        "  if i == j:\n",
        "      return coin[i]\n",
        "\n",
        "    # another case: two pots are left\n",
        "  if i + 1 == j:\n",
        "      return max(coin[i], coin[j])\n",
        "\n",
        "    \n",
        "  if rep[i][j] == 0:\n",
        "    ### If player A chooses pot i, player B has to choose ###\n",
        "    ### from [i+1, j]. ###\n",
        "    # Case 1: if player B chooses pot i+1, player A can choose [i+2, j] \n",
        "    # Case 2: if player B chooses pot j, player A can choose [i+1, j-1] \n",
        "    start = coin[i] + min(optimalStrategy2a(coin, i + 2, j, rep),\n",
        "                              optimalStrategy2a(coin, i + 1, j - 1, rep)) \n",
        "\n",
        "  \n",
        "    ### If player A chooses pot j, player B has to choose [i, j-1]. ###\n",
        "    # Case 1: if player B chooses pot i, player A can choose [i+1, j-1] \n",
        "    # Case 2: if player B chooses pot j-1, player A can choose [i, j-2]\n",
        "    end = coin[j] + min(optimalStrategy2a(coin, i + 1, j - 1, rep), \n",
        "                            optimalStrategy2a(coin, i, j - 2, rep)) \n",
        "\n",
        "        # choose the solutions which brings maximum profit\n",
        "    rep[i][j] = max(start, end)\n",
        "\n",
        "    # return the subproblem solution\n",
        "  return rep[i][j]\n",
        "    "
      ],
      "execution_count": 0,
      "outputs": []
    },
    {
      "cell_type": "markdown",
      "metadata": {
        "id": "gXeHNsqh9h8X",
        "colab_type": "text"
      },
      "source": [
        "#### **Computational Solution Critique:**"
      ]
    },
    {
      "cell_type": "markdown",
      "metadata": {
        "id": "_lnetoCx9oLl",
        "colab_type": "text"
      },
      "source": [
        "The algorithm is made of two functions; one which finds the optimal substructure, and another one that uses this optimal substructure to solve the whole problem. Let's say we do not have individuals playing the game anymore but teams. Each team member gets to make one decision. They can use the ***optimalStrategy2a*** to make sure that each team member makes the most sensible decision that will lead to overall maximum profit.\n",
        "\n",
        "**Strengths**: \n",
        "\n",
        "* The main function which is ***optimalStrategy2*** takes only one positional argument which is the list of pots. \n",
        "* The algorithm works for any length of list. \n",
        "* This is also faster than the previous top-down approach which makes it more suitable for larger input size.\n",
        "\n",
        "**Weaknesses**: \n",
        "\n",
        "* There are two functions we need to use to perform one operation. This may lead to confusion in longer code.\n",
        "\n",
        "**Improvements**:\n",
        "* This algorithm would have been much more organized under a class rather than two functions."
      ]
    },
    {
      "cell_type": "markdown",
      "metadata": {
        "id": "U3sZTv239vz-",
        "colab_type": "text"
      },
      "source": [
        "#### **Time Complexity Explanation:**"
      ]
    },
    {
      "cell_type": "markdown",
      "metadata": {
        "id": "sNgsI2vZ3ul9",
        "colab_type": "text"
      },
      "source": [
        "The operations in this function are performed in constant time, except:\n",
        "\n",
        "\n",
        "\n",
        "```\n",
        "start = coin[i] + min(optimalStrategy2a(coin, i + 2, j, rep),\n",
        "                              optimalStrategy2a(coin, i + 1, j - 1, rep)) \n",
        "```\n",
        "and\n",
        "\n",
        "```\n",
        "end = coin[j] + min(optimalStrategy2a(coin, i + 1, j - 1, rep), \n",
        "                            optimalStrategy2a(coin, i, j - 2, rep)) \n",
        "```\n",
        "\n",
        "which are performed in O(n<sup>2</sup>), because their arguments go through loops. Going through *coin* takes T(n)= O(n), while going through *rep* takes T(n)=O(n) as well, because *rep* goes through a *for loop.* This is equivalent of having two *for-loops*, and its time complexity is O(n<sup>2</sup>).\n",
        "\n",
        "---\n",
        "\n",
        "The auxiliary space is O(1).\n",
        "\n"
      ]
    },
    {
      "cell_type": "markdown",
      "metadata": {
        "id": "jf-qpl9F6VgF",
        "colab_type": "text"
      },
      "source": [
        "### **Bottom-up approach with quadratic time complexity:**"
      ]
    },
    {
      "cell_type": "code",
      "metadata": {
        "id": "LwoEOjo86Yrb",
        "colab_type": "code",
        "colab": {}
      },
      "source": [
        "def optimalStrategy3(coins, i, j, lookup):\n",
        "    '''\n",
        "    This function returns the maximum sum of coins collected\n",
        "    following memoization.\n",
        "\n",
        "    Input:\n",
        "\n",
        "    - coins (list): a list of pots and the coins in them\n",
        "    - i, j (ind)\n",
        "    - lookup (table): store all the solutions to find the optimal one\n",
        "\n",
        "    Output:\n",
        "    \n",
        "    - optimal substructure solution (int)\n",
        "    '''\n",
        "    # base case: one pot is left\n",
        "    if i == j:\n",
        "        return coins[i]\n",
        "\n",
        "    # another case: two pots are left\n",
        "    if (i + 1) == j:\n",
        "        return max(coins[i], coins[j])\n",
        "\n",
        "    # if the problem is new, solve it and store it in lookup\n",
        "    if lookup[i][j] == 0:\n",
        "    ### If player A chooses pot i, player B has to choose ###\n",
        "    ### from [i+1, j]. ###\n",
        "    # Case 1: if player B chooses pot i+1, player A can choose [i+2, j] \n",
        "    # Case 2: if player B chooses pot j, player A can choose [i+1, j-1] \n",
        "        start = coins[i] + min(\n",
        "                              optimalStrategy3(coins, i + 2, j, lookup),\n",
        "                              optimalStrategy3(coins, i + 1, j - 1, lookup))\n",
        "\n",
        "    ### If player A chooses pot j, player B has to choose [i, j-1]. ###\n",
        "    # Case 1: if player B chooses pot i, player A can choose [i+1, j-1] \n",
        "    # Case 2: if player B chooses pot j-1, player A can choose [i, j-2]\n",
        "        end = coins[j] + min(\n",
        "                            optimalStrategy3(coins, i + 1,j - 1, lookup),\n",
        "                            optimalStrategy3(coins, i, j - 2, lookup))\n",
        "\n",
        "        # populate the table from the best solutions\n",
        "        lookup[i][j] = max(start, end)\n",
        "\n",
        "    # choose the best of the best solutions\n",
        "    return lookup[i][j]"
      ],
      "execution_count": 0,
      "outputs": []
    },
    {
      "cell_type": "markdown",
      "metadata": {
        "id": "0c4c2GwJ6NcG",
        "colab_type": "text"
      },
      "source": [
        "\n",
        "#### **Computational Solution Critique:**"
      ]
    },
    {
      "cell_type": "markdown",
      "metadata": {
        "id": "gL6m1xOV-Qk6",
        "colab_type": "text"
      },
      "source": [
        "Since the goal is to maximize on number of coins collected, we would like to make sure that we are following the best strategy. The only way to be most certain is by mapping all the strategies and comparing them to find the *very* best strategy to follow. This is exactly what bottom-up approach provides instead of breaking the problem by calling the function recursively. This is more practical when we would like to increase the certainty that we are leaving no better solution unused, but it translates into more space usage due to memoization.\n",
        "\n",
        "**Strengths:**\n",
        "\n",
        "* It will find the best optimal substructure out of all the possible solutions. It will suggest the algorithm to follow that strategy. This implies we have higher chances of reaching the global optimum.\n",
        "* Works for any length of list\n",
        "\n",
        "**Weaknesses:**\n",
        "\n",
        "* The algorithm takes more space due to memoization.\n",
        "* It also requires the lookup to be put as a positional argument.\n",
        "\n",
        "**Improvements:** \n",
        "* As per space complexity, there is no improvement because that is the price you pay for using the bottom-up approach.\n",
        "* For lookup as a positional argument, we could find a way to make lookup a global variable and use it whenever needed."
      ]
    },
    {
      "cell_type": "markdown",
      "metadata": {
        "id": "oQD6fzk--V0d",
        "colab_type": "text"
      },
      "source": [
        "#### **Time Complexity Explanation:**"
      ]
    },
    {
      "cell_type": "markdown",
      "metadata": {
        "id": "8K34Pskv-fpV",
        "colab_type": "text"
      },
      "source": [
        "Similarly to the top-down approach, this function take constant/linear time for most of the operations except\n",
        "\n",
        "\n",
        "```\n",
        " start = coins[i] + min(optimalStrategy3(coins, i + 2, j, lookup),\n",
        "                              optimalStrategy3(coins, i + 1, j - 1, lookup))\n",
        "```\n",
        "and \n",
        "```\n",
        "end = coins[j] + min(optimalStrategy3(coins, i + 1,j - 1, lookup),\n",
        "                            optimalStrategy3(coins, i, j - 2, lookup))\n",
        "```\n",
        "\n",
        "which iterate over the list twice. This results in **O**(n<sup>2</sup>) time complexity. \n",
        "\n",
        "---\n",
        "Its auxiliary space is also of **O**(n<sup>2</sup>) complexity, due to the iterations in the lookup function."
      ]
    },
    {
      "cell_type": "markdown",
      "metadata": {
        "id": "K8ZNybvn98ci",
        "colab_type": "text"
      },
      "source": [
        "## **Greedy approach with linear time complexity**\n"
      ]
    },
    {
      "cell_type": "code",
      "metadata": {
        "id": "eGH14z6EMQv-",
        "colab_type": "code",
        "colab": {}
      },
      "source": [
        "def greedysolution (pots):\n",
        "  '''\n",
        "  This function represents a solution of Pots of Gold \n",
        "  problem from a greedy perspective.\n",
        "\n",
        "  Input: \n",
        "   - pots(list): list of pots with their numbers of coins.\n",
        "\n",
        "  Output:\n",
        "   - maximum number of coins collected by player A (int).\n",
        "  '''\n",
        "\n",
        "  # create empty lists of coins for both players\n",
        "  A=[]\n",
        "  B=[]\n",
        "\n",
        "  # iterate through the list and get the best choice at hand\n",
        "  # for each player, choose the maximum between two available pots\n",
        "  # without further consideration and add the pot to their list\n",
        "  # while removing it from the main list of pots\n",
        "  for i in range(len(pots)//2):\n",
        "    maximum=max(pot[0], pot[-1])\n",
        "    A.append(maximum)\n",
        "    pot.remove(maximum)\n",
        "    maximum2=max(pot[0], pot[-1])\n",
        "    B.append(maximum2)\n",
        "    pot.remove(maximum2)\n",
        "  \n",
        "  # return the sum of the first player's list\n",
        "    \n",
        "  return sum(A)"
      ],
      "execution_count": 0,
      "outputs": []
    },
    {
      "cell_type": "markdown",
      "metadata": {
        "id": "w1sRUQlv-3vi",
        "colab_type": "text"
      },
      "source": [
        "#### **Computational Solutions Critique:**"
      ]
    },
    {
      "cell_type": "markdown",
      "metadata": {
        "id": "FJnGHXw8--SV",
        "colab_type": "text"
      },
      "source": [
        "The greedy approach creates a new algorithm which makes the best decision locally. Sometimes local optimums lead to global optimums, for example if the problem is convex (more about convex problems: [here](https://www.solver.com/convex-optimization)). This algorithm can be used if you are not sure that the other player is going to play optimally. In that case, your best bet is choosing the best choice at hand.\n",
        "\n",
        "**Strengths:**\n",
        "\n",
        "* Makes sure you never miss the local optimum.\n",
        "* Very fast, space-efficient and does not exhaust every possible solution. \n",
        "\n",
        "**Weaknesses:**\n",
        "\n",
        "* Does not always bring the global optimum, which is an issue because in this problem we need to consider the overlapping problem mentioned above.\n",
        "* May not always work for odd lists due to the range in the iteration.\n",
        "\n",
        "**Improvements:**\n",
        "\n",
        "* Compute a probability of choosing the global optimum as a supplement to understanding how accurate the greedy algorithm is in this problem. This could be done by computing the error rates over the trials.\n"
      ]
    },
    {
      "cell_type": "markdown",
      "metadata": {
        "id": "66nEErxm_DC4",
        "colab_type": "text"
      },
      "source": [
        "#### **Time Complexity Explanation:**"
      ]
    },
    {
      "cell_type": "markdown",
      "metadata": {
        "id": "fx2xvXHH_IxZ",
        "colab_type": "text"
      },
      "source": [
        "Every operation is conducted in constant time except for one iteraion over the list of pots. This makes its time complexity O(n).\n",
        "\n",
        "```\n",
        " for i in range(len(pots)//2):\n",
        "    maximum=max(pot[0], pot[-1])\n",
        "    A.append(maximum)\n",
        "    pot.remove(maximum)\n",
        "    maximum2=max(pot[0], pot[-1])\n",
        "    B.append(maximum2)\n",
        "    pot.remove(maximum2)\n",
        "  \n",
        "```\n"
      ]
    },
    {
      "cell_type": "markdown",
      "metadata": {
        "id": "RyWrlTvRYHDT",
        "colab_type": "text"
      },
      "source": [
        "## **Tests:**\n"
      ]
    },
    {
      "cell_type": "code",
      "metadata": {
        "id": "lwRr0x7HYJvp",
        "colab_type": "code",
        "outputId": "46ff9c1a-fed5-426f-8230-d98b5b014fb5",
        "colab": {
          "base_uri": "https://localhost:8080/",
          "height": 88
        }
      },
      "source": [
        "# Top- Down approach\n",
        "pot = [0]\n",
        "print('If the pot is empty, first solution will produce',\n",
        "      optimalStrategy1(pot, 0, len(pot)-1))\n",
        "print ('If the pot is empty, second solution will produce',\n",
        "       optimalStrategy2(pot))\n",
        "pot = [0,5,2,7]\n",
        "print('If the pot is', pot, 'first solution will produce',\n",
        "      optimalStrategy1(pot, 0, len(pot)-1))\n",
        "print ('If the pot is', pot, 'second solution will produce',\n",
        "        optimalStrategy2(pot))"
      ],
      "execution_count": 0,
      "outputs": [
        {
          "output_type": "stream",
          "text": [
            "If the pot is empty, first solution will produce 0\n",
            "If the pot is empty, second solution will produce 0\n",
            "If the pot is [0, 5, 2, 7] first solution will produce 12\n",
            "If the pot is [0, 5, 2, 7] second solution will produce 12\n"
          ],
          "name": "stdout"
        }
      ]
    },
    {
      "cell_type": "code",
      "metadata": {
        "id": "F6dJqAC6KU5t",
        "colab_type": "code",
        "outputId": "1ab8c058-6d00-4a42-c8ba-7708ae1c8de1",
        "colab": {
          "base_uri": "https://localhost:8080/",
          "height": 52
        }
      },
      "source": [
        "# Bottom-up approach\n",
        "pot = [0]\n",
        "print('If the pot is empty, third solution will produce', \n",
        "      optimalStrategy3(pot, 0, len(pot)-1, [[0 for i in pot] for j in pot]))\n",
        "pot = [0,5,2,7]\n",
        "print('If the pot is', pot, 'third solution will produce',\n",
        "      optimalStrategy3(pot, 0, len(pot)-1, [[0 for i in pot] for j in pot]))"
      ],
      "execution_count": 0,
      "outputs": [
        {
          "output_type": "stream",
          "text": [
            "If the pot is empty, third solution will produce 0\n",
            "If the pot is [0, 5, 2, 7] third solution will produce 12\n"
          ],
          "name": "stdout"
        }
      ]
    },
    {
      "cell_type": "code",
      "metadata": {
        "id": "TUlQiFQKVjta",
        "colab_type": "code",
        "outputId": "40a347d7-b18a-476c-ac9e-bbedf3a85af2",
        "colab": {
          "base_uri": "https://localhost:8080/",
          "height": 52
        }
      },
      "source": [
        "# Greedy approach\n",
        "pot = [0]\n",
        "print('If the pot is empty, fourth solution will produce', greedysolution(pot))\n",
        "pot = [0,5,2,7]\n",
        "print('If the pot is', pot, 'third solution will produce', greedysolution(pot))\n"
      ],
      "execution_count": 0,
      "outputs": [
        {
          "output_type": "stream",
          "text": [
            "If the pot is empty, fourth solution will produce 0\n",
            "If the pot is [] third solution will produce 12\n"
          ],
          "name": "stdout"
        }
      ]
    },
    {
      "cell_type": "markdown",
      "metadata": {
        "id": "4ZWqGKuVEEjE",
        "colab_type": "text"
      },
      "source": [
        "## **Compare and contrast the algorithms' performance:**"
      ]
    },
    {
      "cell_type": "markdown",
      "metadata": {
        "id": "5p7ZEhX8_mcP",
        "colab_type": "text"
      },
      "source": [
        "#### **Complexity:**"
      ]
    },
    {
      "cell_type": "markdown",
      "metadata": {
        "id": "MEoDpCUP_2YH",
        "colab_type": "text"
      },
      "source": [
        "From the table down below, we see that the worst time complexity and space complexity are for top-down approach. If we care about the complexity, regardless of correctness, then we cannot choose Bottom-up. Indeed, the worst-time complexity belongs to Top-Down Approach 1, but its space complexity is better. With only complexity in mind, the best two solutions are Top-Down approach 2 and greedy algorithms, while the latter is far better performing in terms of time complexity."
      ]
    },
    {
      "cell_type": "markdown",
      "metadata": {
        "id": "mOEq1T0M_1J6",
        "colab_type": "text"
      },
      "source": [
        "\n",
        "| Algorithm  |  Time C.  | Space C.|\n",
        "|----------          |:-------------:|  |\n",
        "|Top-Down Approach 1 |O(2<sup>n</sup>)|O (1)|\n",
        "|Top-Down Approach 2 |O(n<sup>2 </sup>)|O(1)|\n",
        "|Bottom-up Approach  |O(n<sup>2 </sup>) |O(n<sup>2 </sup>) |\n",
        "|Greedy Approach     |O(n) |O(1)|\n",
        "\n",
        "\n",
        "\n"
      ]
    },
    {
      "cell_type": "markdown",
      "metadata": {
        "id": "Woi-Gwcn_wIX",
        "colab_type": "text"
      },
      "source": [
        "#### **Correctness: *Do they output the optimal solution*?**"
      ]
    },
    {
      "cell_type": "markdown",
      "metadata": {
        "id": "BQo8v-cLngkw",
        "colab_type": "text"
      },
      "source": [
        "From several trials conducted, varying the length and the elements of the list, all the algorithms were able to produce the same and correct output. The algorithms were tested for the list containing zero pots as an edge case, but not for the other huge list as it took very much time to compute the maximum number of coins collected for bigger lists. However, for lists up to 20 inputs all the functions produced the correct output. If this game is played in real life, we do not assume to have billions of pots or even hundred, therefore we can judge that the correctness of the algorithms is about the right level."
      ]
    },
    {
      "cell_type": "markdown",
      "metadata": {
        "id": "9JbaCEFc_6BT",
        "colab_type": "text"
      },
      "source": [
        "#### **Runtime:**"
      ]
    },
    {
      "cell_type": "markdown",
      "metadata": {
        "id": "UeeQ0sy7U-Nt",
        "colab_type": "text"
      },
      "source": [
        "A new approach to evaluate time is taking the same list and see how long it takes to execute each function. This is also dependent on the computational power, but it is the same computer for al the functions so it should be able to give us accurate results.\n",
        "\n",
        "I intentionally take a longer list than the test one, to test the run time. This list is yet a small one, so we cannot infer about the asymptotic behaviour, but if we play this game in real life we are most likely never going to play with more than 18 pots, which is how long this list is. So, the time it takes a list of length 18 to run, is what we need to know when we want to choose one algorithm, because its close approximation to the reality."
      ]
    },
    {
      "cell_type": "markdown",
      "metadata": {
        "id": "3C_JbN3eWRuH",
        "colab_type": "text"
      },
      "source": [
        "| Algorithm  |  Time (in nanoseconds)  |\n",
        "|----------          |:-------------:|  \n",
        "|Top-Down Approach 1 |4.29\n",
        "|Top-Down Approach 2 |7.39\n",
        "|Bottom-up Approach  |5.96\n",
        "|Greedy Approach     |4.53"
      ]
    },
    {
      "cell_type": "code",
      "metadata": {
        "id": "zsGSv3JBTswA",
        "colab_type": "code",
        "outputId": "d93cbdd0-17c6-4551-f4db-c623d741ae96",
        "colab": {
          "base_uri": "https://localhost:8080/",
          "height": 52
        }
      },
      "source": [
        "pot = [4,5,2,9,1,3,7,2,5,6,2,8,6,1,4,7,8,5,2,9]\n",
        "optimalStrategy1(pot, 0, len(pot)-1)\n",
        "%time"
      ],
      "execution_count": 0,
      "outputs": [
        {
          "output_type": "stream",
          "text": [
            "CPU times: user 2 µs, sys: 0 ns, total: 2 µs\n",
            "Wall time: 4.29 µs\n"
          ],
          "name": "stdout"
        }
      ]
    },
    {
      "cell_type": "code",
      "metadata": {
        "id": "3PbQoWakT742",
        "colab_type": "code",
        "outputId": "689503b6-d890-4a4d-ccea-5f114c7c624e",
        "colab": {
          "base_uri": "https://localhost:8080/",
          "height": 52
        }
      },
      "source": [
        "pot = [4,5,2,9,1,3,7,2,5,6,2,8,6,1,4,7,8,5,2,9]\n",
        "optimalStrategy2 (pot)\n",
        "%time"
      ],
      "execution_count": 0,
      "outputs": [
        {
          "output_type": "stream",
          "text": [
            "CPU times: user 4 µs, sys: 1 µs, total: 5 µs\n",
            "Wall time: 7.39 µs\n"
          ],
          "name": "stdout"
        }
      ]
    },
    {
      "cell_type": "code",
      "metadata": {
        "id": "pbLUxP4aUEEr",
        "colab_type": "code",
        "outputId": "2be97ca3-28f7-4f33-9047-451d083590cf",
        "colab": {
          "base_uri": "https://localhost:8080/",
          "height": 52
        }
      },
      "source": [
        "pot = [4,5,2,9,1,3,7,2,5,6,2,8,6,1,4,7,8,5,2,9]\n",
        "optimalStrategy3(pot, 0, len(pot)-1, [[0 for i in pot] for j in pot])\n",
        "%time"
      ],
      "execution_count": 0,
      "outputs": [
        {
          "output_type": "stream",
          "text": [
            "CPU times: user 3 µs, sys: 0 ns, total: 3 µs\n",
            "Wall time: 5.96 µs\n"
          ],
          "name": "stdout"
        }
      ]
    },
    {
      "cell_type": "code",
      "metadata": {
        "id": "dZhmFd2RUUFN",
        "colab_type": "code",
        "outputId": "730f055f-e56b-4ea1-b9dc-160c0ce2ad46",
        "colab": {
          "base_uri": "https://localhost:8080/",
          "height": 52
        }
      },
      "source": [
        "pot = [4,5,2,9,1,3,7,2,5,6,2,8,6,1,4,7,8,5,2,9]\n",
        "greedysolution(pot)\n",
        "%time"
      ],
      "execution_count": 0,
      "outputs": [
        {
          "output_type": "stream",
          "text": [
            "CPU times: user 2 µs, sys: 0 ns, total: 2 µs\n",
            "Wall time: 4.53 µs\n"
          ],
          "name": "stdout"
        }
      ]
    },
    {
      "cell_type": "markdown",
      "metadata": {
        "id": "aXVtFM7HWg1Q",
        "colab_type": "text"
      },
      "source": [
        "#### **Which algorithm should I use then?**"
      ]
    },
    {
      "cell_type": "markdown",
      "metadata": {
        "id": "id4-DWpWWmkT",
        "colab_type": "text"
      },
      "source": [
        "Since correctness is of the same level, considering runtime and time complexity,we are better off using greedy algorithm. It has appeared not to produce anything other than global optimum. But just because it has produced the global optimum so far, it does not mean it is proven to always produce the best strategy - we know how this algorithm works and its strategy is not certain to always produce the best solution. \n",
        "\n",
        "Thus, in average for any size of input, considering runtime, time-space complexity and correctness, the best performing algorithm is Top-Down Approach 2. It is always correct, it takes auxiliary constant space, it takes quadratic time (not exponential) and it runs relatively fast for our average input size.\n",
        "\n",
        "If we know for sure the input size is going to be small, then we should choose Top Down Approach 1, since it has all the same performance like Top Down Approach 2, except that its time complexity is exponential. We see from the runtime experiment that this algorithm runs faster despite its time complexity. That's because time grows exponentially, and in the beginning it is small. So, for smaller input size it might perform better than any other algorithm.\n",
        "\n",
        "In the end, if our priority is maximum correctness, and saving all the possible strategies, only Bottom-Up Approach offers us that. It can be chosen over Top-Down Approach 2, if space is not a concern."
      ]
    },
    {
      "cell_type": "markdown",
      "metadata": {
        "id": "NY1SCy2Hhi1q",
        "colab_type": "text"
      },
      "source": [
        "## HC applications:\n"
      ]
    },
    {
      "cell_type": "markdown",
      "metadata": {
        "id": "0hJuZvM0hllj",
        "colab_type": "text"
      },
      "source": [
        "**#algorithms**: I have implemented different algorithms that solve the same problem, compared and contrasted them from metrics of performance, and gave suggestion in which context would it make sense to use each of the algorithms."
      ]
    },
    {
      "cell_type": "markdown",
      "metadata": {
        "id": "XdUxDxMlh6Bm",
        "colab_type": "text"
      },
      "source": [
        "**#organization**: I have organized the paper in coherent chunks of texts and code, making it easy to follow and understand. I have specifically alternated between markdown and code cells to provide a better overall outline."
      ]
    },
    {
      "cell_type": "markdown",
      "metadata": {
        "id": "G2qFvZ-lh_H-",
        "colab_type": "text"
      },
      "source": [
        "**#breakitdown**: In the section \"Candidate Dynamic Programmig Solution, I identify the overlapping problem of the pot gold, and implement three approaches which break the main problem down to tractable problems and then produce the whole problem's solution."
      ]
    },
    {
      "cell_type": "markdown",
      "metadata": {
        "id": "0zWz11EviK7L",
        "colab_type": "text"
      },
      "source": [
        "**#levelsofanalysis:** I analyzed the problem from one player's perspective while making decisions that would affect the whole system of the game and the other agent. To emphasize on one player's perspecive, I drew a decision tree that explains the decision making process."
      ]
    },
    {
      "cell_type": "markdown",
      "metadata": {
        "id": "lB2XW8RETr3N",
        "colab_type": "text"
      },
      "source": [
        "References:\n",
        "\n",
        "https://essytree.com/tree\n",
        "\n",
        "https://www.mimuw.edu.pl/~idziaszek/termity/termity.pdf"
      ]
    }
  ]
}