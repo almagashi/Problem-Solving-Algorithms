{
 "cells": [
  {
   "cell_type": "markdown",
   "metadata": {},
   "source": [
    "<img src=\"Capture.jpg\">"
   ]
  },
  {
   "cell_type": "markdown",
   "metadata": {},
   "source": [
    "### Let's see how many Hash Functions we need to create in order to maintain a given false positive error rate...###"
   ]
  },
  {
   "cell_type": "code",
   "execution_count": 1,
   "metadata": {},
   "outputs": [
    {
     "name": "stdout",
     "output_type": "stream",
     "text": [
      "Number of bits for bloom filter: 624\n",
      "This is the number of hash functions I should create: 4.0\n"
     ]
    }
   ],
   "source": [
    "# import numpy to perform logarithmic actions\n",
    "import numpy as np\n",
    "\n",
    "# the number of slots in the filter\n",
    "n = 100\n",
    "\n",
    "# the false positive error rate\n",
    "p = 0.05 #false positive rate, from 0.0 to 1.0\n",
    "\n",
    "# bits in the bloom filter\n",
    "m = int(round((-n*np.log(p)) / (0.48045)))\n",
    "\n",
    "# hash functions required not to go above the allowed error rate\n",
    "k = m/n * np.log(2)\n",
    "\n",
    "print(\"Number of bits for bloom filter:\", m)\n",
    "print('This is the number of hash functions I should create:',round(k))"
   ]
  },
  {
   "cell_type": "markdown",
   "metadata": {},
   "source": [
    "### 1. Create the hash functions (or use existing libraries) ###"
   ]
  },
  {
   "cell_type": "code",
   "execution_count": 2,
   "metadata": {},
   "outputs": [],
   "source": [
    "# initialize an array of 0s that has m spots\n",
    "array = [0] * m\n",
    "\n",
    "# create a list to be hashed and addressed in the array\n",
    "\n",
    "lst=[8,9,17]\n",
    "\n",
    "\n",
    "def hash1(self):\n",
    "    '''\n",
    "    This function will return the address/position of the element.\n",
    "    Input: element to be hashed.\n",
    "    Output: element's address.\n",
    "    '''\n",
    "    # this is the first hash function\n",
    "    position = ((3*self)+3)%len(array) \n",
    "    return position\n",
    "\n",
    "def hash2(self):\n",
    "    '''\n",
    "    This function will return the address/position of the element.\n",
    "    Input: element to be hashed.\n",
    "    Output: element's address.\n",
    "    '''\n",
    "    # this is the second hash function\n",
    "    position = ((6*self)+9**2)%len(array)\n",
    "    return position\n",
    "\n",
    "def hash3 (self):\n",
    "    '''\n",
    "    This function will return the address/position of the element.\n",
    "    Input: element to be hashed.\n",
    "    Output: element's address.\n",
    "    '''\n",
    "    # this is the third hash function\n",
    "    position = ((3*self)+7**3)%len(array)\n",
    "    return position\n",
    "\n",
    "def hash4 (self):\n",
    "    '''\n",
    "    This function will return the address/position of the element.\n",
    "    Input: element to be hashed.\n",
    "    Output: element's address.\n",
    "    '''\n",
    "    # this is the fourth hash function\n",
    "    position = ((2*self)+3**4)%len(array)\n",
    "    return position\n",
    "\n",
    "### I chose the give these hash functions for open addressing, because ###\n",
    "### they populate the array to some extent randomly  and uniformly (although it ###\n",
    "### is a deterministic process), and that way it minimizes collisions. ###\n",
    "\n",
    "### It's important to minimize collisions to keep the minimum space usage ###\n",
    "### in terms of bits, because the higher the number in the array, the more bits used. ###\n",
    "### An ideal array would be one with only 1 and 0s. ###\n"
   ]
  },
  {
   "cell_type": "markdown",
   "metadata": {},
   "source": [
    "### 2. Insert(element) operation ###"
   ]
  },
  {
   "cell_type": "code",
   "execution_count": 3,
   "metadata": {},
   "outputs": [
    {
     "name": "stdout",
     "output_type": "stream",
     "text": [
      "[0, 0, 0, 0, 0, 0, 0, 0, 0, 0, 0, 0, 0, 0, 0, 0, 0, 0, 0, 0, 0, 0, 0, 0, 0, 0, 0, 1, 0, 0, 1, 0, 0, 0, 0, 0, 0, 0, 0, 0, 0, 0, 0, 0, 0, 0, 0, 0, 0, 0, 0, 0, 0, 0, 1, 0, 0, 0, 0, 0, 0, 0, 0, 0, 0, 0, 0, 0, 0, 0, 0, 0, 0, 0, 0, 0, 0, 0, 0, 0, 0, 0, 0, 0, 0, 0, 0, 0, 0, 0, 0, 0, 0, 0, 0, 0, 0, 1, 0, 1, 0, 0, 0, 0, 0, 0, 0, 0, 0, 0, 0, 0, 0, 0, 0, 1, 0, 0, 0, 0, 0, 0, 0, 0, 0, 0, 0, 0, 0, 1, 0, 0, 0, 0, 0, 1, 0, 0, 0, 0, 0, 0, 0, 0, 0, 0, 0, 0, 0, 0, 0, 0, 0, 0, 0, 0, 0, 0, 0, 0, 0, 0, 0, 0, 0, 0, 0, 0, 0, 0, 0, 0, 0, 0, 0, 0, 0, 0, 0, 0, 0, 0, 0, 1, 0, 0, 0, 0, 0, 0, 0, 0, 0, 0, 0, 0, 0, 0, 0, 0, 0, 0, 0, 0, 0, 0, 0, 0, 0, 0, 0, 0, 0, 0, 0, 0, 0, 0, 0, 0, 0, 0, 0, 0, 0, 0, 0, 0, 0, 0, 0, 0, 0, 0, 0, 0, 0, 0, 0, 0, 0, 0, 0, 0, 0, 0, 0, 0, 0, 0, 0, 0, 0, 0, 0, 0, 0, 0, 0, 0, 0, 0, 0, 0, 0, 0, 0, 0, 0, 0, 0, 0, 0, 0, 0, 0, 0, 0, 0, 0, 0, 0, 0, 0, 0, 0, 0, 0, 0, 0, 0, 0, 0, 0, 0, 0, 0, 0, 0, 0, 0, 0, 0, 0, 0, 0, 0, 0, 0, 0, 0, 0, 0, 0, 0, 0, 0, 0, 0, 0, 0, 0, 0, 0, 0, 0, 0, 0, 0, 0, 0, 0, 0, 0, 0, 0, 0, 0, 0, 0, 0, 0, 0, 0, 0, 0, 0, 0, 0, 0, 0, 0, 0, 0, 0, 0, 0, 0, 0, 0, 0, 0, 0, 0, 0, 0, 0, 1, 0, 0, 1, 0, 0, 0, 0, 0, 0, 0, 0, 0, 0, 0, 0, 0, 0, 0, 0, 0, 0, 0, 0, 0, 0, 0, 1, 0, 0, 0, 0, 0, 0, 0, 0, 0, 0, 0, 0, 0, 0, 0, 0, 0, 0, 0, 0, 0, 0, 0, 0, 0, 0, 0, 0, 0, 0, 0, 0, 0, 0, 0, 0, 0, 0, 0, 0, 0, 0, 0, 0, 0, 0, 0, 0, 0, 0, 0, 0, 0, 0, 0, 0, 0, 0, 0, 0, 0, 0, 0, 0, 0, 0, 0, 0, 0, 0, 0, 0, 0, 0, 0, 0, 0, 0, 0, 0, 0, 0, 0, 0, 0, 0, 0, 0, 0, 0, 0, 0, 0, 0, 0, 0, 0, 0, 0, 0, 0, 0, 0, 0, 0, 0, 0, 0, 0, 0, 0, 0, 0, 0, 0, 0, 0, 0, 0, 0, 0, 0, 0, 0, 0, 0, 0, 0, 0, 0, 0, 0, 0, 0, 0, 0, 0, 0, 0, 0, 0, 0, 0, 0, 0, 0, 0, 0, 0, 0, 0, 0, 0, 0, 0, 0, 0, 0, 0, 0, 0, 0, 0, 0, 0, 0, 0, 0, 0, 0, 0, 0, 0, 0, 0, 0, 0, 0, 0, 0, 0, 0, 0, 0, 0, 0, 0, 0, 0, 0, 0, 0, 0, 0, 0, 0, 0, 0, 0, 0, 0, 0, 0, 0, 0, 0, 0, 0, 0, 0, 0, 0, 0, 0, 0, 0, 0, 0, 0, 0, 0, 0, 0, 0, 0, 0, 0, 0, 0]\n"
     ]
    }
   ],
   "source": [
    "def insert(lst):\n",
    "    '''\n",
    "    This function takes the elements of a list, hashes them from\n",
    "    all the four hash functions to find their positions, and then\n",
    "    places the element as 1 in the array. If there are collisions,\n",
    "    the element 1 is incremented by one. \n",
    "    Input: List\n",
    "    Output: A counting bloom filter\n",
    "    '''\n",
    "    # initialize storages for hashed elements from the list\n",
    "    hashone = []\n",
    "    hashtwo = []\n",
    "    hashthree = []\n",
    "    hashfour = []\n",
    "    \n",
    "    # append the hashed elements in the appropriate list\n",
    "    for self in lst:\n",
    "        hashone.append(hash1(self))\n",
    "        hashtwo.append(hash2(self))\n",
    "        hashthree.append(hash3(self))\n",
    "        hashfour.append(hash4(self))\n",
    "        \n",
    "    # Hashed elements only represent the position in the array\n",
    "    # and they will be stored as one in that position \n",
    "    # (or more, if there are collisions)\n",
    "    for i in hashone:\n",
    "        array[i] += 1\n",
    "    for i in hashtwo:\n",
    "        array[i] += 1\n",
    "    for i in hashthree:\n",
    "        array[i] += 1\n",
    "    for i in hashfour:\n",
    "        array[i] += 1\n",
    "        \n",
    "    return array\n",
    "\n",
    "print(insert(lst))\n",
    "\n",
    "### I choose to insert a list because it is easier ###\n",
    "### to populate the array for the given task. ###\n",
    "### However, we could create the function to only insert ###\n",
    "### an element instead. In this task, we would have to call ### \n",
    "### the function for every element in the list, so I decided ###\n",
    "### to insert the whole list simultaneously instead. ###\n"
   ]
  },
  {
   "cell_type": "markdown",
   "metadata": {},
   "source": [
    "### 3. Query(element) operation"
   ]
  },
  {
   "cell_type": "code",
   "execution_count": 4,
   "metadata": {},
   "outputs": [
    {
     "data": {
      "text/plain": [
       "False"
      ]
     },
     "execution_count": 4,
     "metadata": {},
     "output_type": "execute_result"
    }
   ],
   "source": [
    "def lookup(element, array):\n",
    "    '''\n",
    "    This function looks up for one element if it \n",
    "    was part of the first list we put in the CBF.\n",
    "    This might return False Positives up to 5%, but never\n",
    "    False Negatives.\n",
    "    Input: element, array\n",
    "    Output: a boolean that says the element is or is not in the list.\n",
    "    '''\n",
    "    # hash the element to find its possible addresses\n",
    "    a = hash1(element)\n",
    "    b = hash2(element)\n",
    "    c = hash3(element)\n",
    "    d = hash4(element)\n",
    "    \n",
    "    # if all the addresses are more than 0, then the element might be there\n",
    "    if array[a]>0 and array[b]>0 and array[c]>0 and array[d]>0:\n",
    "        return True\n",
    "        \n",
    "    # if one of the addresses is 0, then the element is not there for sure\n",
    "    if array[a]==0 or array[b]==0 or array[c]==0 or array[d]==0:\n",
    "        return False\n",
    "\n",
    "lookup(1,array)"
   ]
  },
  {
   "cell_type": "markdown",
   "metadata": {},
   "source": [
    "### 4. Delete(element) operation ###"
   ]
  },
  {
   "cell_type": "code",
   "execution_count": 5,
   "metadata": {
    "scrolled": true
   },
   "outputs": [
    {
     "name": "stdout",
     "output_type": "stream",
     "text": [
      "[0, 0, 0, 0, 0, 0, 0, 0, 0, 0, 0, 0, 0, 0, 0, 0, 0, 0, 0, 0, 0, 0, 0, 0, 0, 0, 0, 0, 0, 0, 1, 0, 0, 0, 0, 0, 0, 0, 0, 0, 0, 0, 0, 0, 0, 0, 0, 0, 0, 0, 0, 0, 0, 0, 1, 0, 0, 0, 0, 0, 0, 0, 0, 0, 0, 0, 0, 0, 0, 0, 0, 0, 0, 0, 0, 0, 0, 0, 0, 0, 0, 0, 0, 0, 0, 0, 0, 0, 0, 0, 0, 0, 0, 0, 0, 0, 0, 0, 0, 1, 0, 0, 0, 0, 0, 0, 0, 0, 0, 0, 0, 0, 0, 0, 0, 1, 0, 0, 0, 0, 0, 0, 0, 0, 0, 0, 0, 0, 0, 0, 0, 0, 0, 0, 0, 1, 0, 0, 0, 0, 0, 0, 0, 0, 0, 0, 0, 0, 0, 0, 0, 0, 0, 0, 0, 0, 0, 0, 0, 0, 0, 0, 0, 0, 0, 0, 0, 0, 0, 0, 0, 0, 0, 0, 0, 0, 0, 0, 0, 0, 0, 0, 0, 1, 0, 0, 0, 0, 0, 0, 0, 0, 0, 0, 0, 0, 0, 0, 0, 0, 0, 0, 0, 0, 0, 0, 0, 0, 0, 0, 0, 0, 0, 0, 0, 0, 0, 0, 0, 0, 0, 0, 0, 0, 0, 0, 0, 0, 0, 0, 0, 0, 0, 0, 0, 0, 0, 0, 0, 0, 0, 0, 0, 0, 0, 0, 0, 0, 0, 0, 0, 0, 0, 0, 0, 0, 0, 0, 0, 0, 0, 0, 0, 0, 0, 0, 0, 0, 0, 0, 0, 0, 0, 0, 0, 0, 0, 0, 0, 0, 0, 0, 0, 0, 0, 0, 0, 0, 0, 0, 0, 0, 0, 0, 0, 0, 0, 0, 0, 0, 0, 0, 0, 0, 0, 0, 0, 0, 0, 0, 0, 0, 0, 0, 0, 0, 0, 0, 0, 0, 0, 0, 0, 0, 0, 0, 0, 0, 0, 0, 0, 0, 0, 0, 0, 0, 0, 0, 0, 0, 0, 0, 0, 0, 0, 0, 0, 0, 0, 0, 0, 0, 0, 0, 0, 0, 0, 0, 0, 0, 0, 0, 0, 0, 0, 0, 0, 0, 0, 0, 1, 0, 0, 0, 0, 0, 0, 0, 0, 0, 0, 0, 0, 0, 0, 0, 0, 0, 0, 0, 0, 0, 0, 0, 1, 0, 0, 0, 0, 0, 0, 0, 0, 0, 0, 0, 0, 0, 0, 0, 0, 0, 0, 0, 0, 0, 0, 0, 0, 0, 0, 0, 0, 0, 0, 0, 0, 0, 0, 0, 0, 0, 0, 0, 0, 0, 0, 0, 0, 0, 0, 0, 0, 0, 0, 0, 0, 0, 0, 0, 0, 0, 0, 0, 0, 0, 0, 0, 0, 0, 0, 0, 0, 0, 0, 0, 0, 0, 0, 0, 0, 0, 0, 0, 0, 0, 0, 0, 0, 0, 0, 0, 0, 0, 0, 0, 0, 0, 0, 0, 0, 0, 0, 0, 0, 0, 0, 0, 0, 0, 0, 0, 0, 0, 0, 0, 0, 0, 0, 0, 0, 0, 0, 0, 0, 0, 0, 0, 0, 0, 0, 0, 0, 0, 0, 0, 0, 0, 0, 0, 0, 0, 0, 0, 0, 0, 0, 0, 0, 0, 0, 0, 0, 0, 0, 0, 0, 0, 0, 0, 0, 0, 0, 0, 0, 0, 0, 0, 0, 0, 0, 0, 0, 0, 0, 0, 0, 0, 0, 0, 0, 0, 0, 0, 0, 0, 0, 0, 0, 0, 0, 0, 0, 0, 0, 0, 0, 0, 0, 0, 0, 0, 0, 0, 0, 0, 0, 0, 0, 0, 0, 0, 0, 0, 0, 0, 0, 0, 0, 0, 0, 0, 0, 0, 0, 0, 0, 0, 0, 0, 0, 0, 0, 0]\n"
     ]
    }
   ],
   "source": [
    "def deletion(element, array):\n",
    "        '''\n",
    "        This function deletes an element from the array.\n",
    "        Input: The element, array\n",
    "        Output: A list without the element given\n",
    "        '''\n",
    "        # hash the element to find its addresses\n",
    "        a = hash1(element)\n",
    "        b = hash2(element)\n",
    "        c = hash3(element)\n",
    "        d = hash4(element)\n",
    "        \n",
    "        # delete it from those addresses\n",
    "        array[a]-=1\n",
    "        array[b]-=1\n",
    "        array[c]-=1\n",
    "        array[d]-=1\n",
    "        return array\n",
    "\n",
    "print(deletion(8,array))"
   ]
  },
  {
   "cell_type": "markdown",
   "metadata": {},
   "source": [
    "### Experimental results of False Positives###"
   ]
  },
  {
   "cell_type": "code",
   "execution_count": 9,
   "metadata": {},
   "outputs": [
    {
     "data": {
      "image/png": "[encoded data removed]",
      "text/plain": [
       "<Figure size 432x288 with 1 Axes>"
      ]
     },
     "metadata": {},
     "output_type": "display_data"
    },
    {
     "name": "stdout",
     "output_type": "stream",
     "text": [
      "Average FPR: 8.35\n"
     ]
    }
   ],
   "source": [
    "import random\n",
    "n = 100\n",
    "\n",
    "# the false positive error rate\n",
    "p = 0.05 # false positive rate, from 0.0 to 1.0\n",
    "\n",
    "# bits in the bloom filter\n",
    "m = int(round((-n*np.log(p)) / (0.48045)))\n",
    "\n",
    "# hash functions required not to go above the allowed error rate\n",
    "k = m/n * np.log(2) # round(k) = 4\n",
    "\n",
    "testset = [i*100 for i in range(20)]\n",
    "resultset = []\n",
    "for sz in testset:\n",
    "    array = [0] * m\n",
    "\n",
    "    my_random_list = list(range(sz-100,sz))\n",
    "    not_my_random_list = list(range(sz+1,sz+100))\n",
    "    insert(my_random_list)\n",
    "\n",
    "    count = 0\n",
    "\n",
    "    for i in not_my_random_list:\n",
    "        if lookup(i, array) == True:\n",
    "            count+=1\n",
    "    resultset.append(count)\n",
    "    \n",
    "# importing the required module \n",
    "import matplotlib.pyplot as plt \n",
    "  \n",
    "x, y = testset, resultset\n",
    "  \n",
    "# plotting the points  \n",
    "plt.plot(x, y) \n",
    "  \n",
    "# naming the x axis \n",
    "plt.xlabel('Element Range') \n",
    "# naming the y axis \n",
    "plt.ylabel('False Positive Rate') \n",
    "  \n",
    "# giving a title to my graph \n",
    "plt.title('False Positives') \n",
    "  \n",
    "# function to show the plot \n",
    "plt.show() \n",
    "\n",
    "print(\"Average FPR:\", sum(resultset)/len(resultset))"
   ]
  },
  {
   "cell_type": "code",
   "execution_count": 7,
   "metadata": {},
   "outputs": [],
   "source": [
    "n = 200\n",
    "\n",
    "# the false positive error rate\n",
    "p = 0.05 # false positive rate, from 0.0 to 1.0\n",
    "\n",
    "# bits in the bloom filter\n",
    "m = int(round((-n*np.log(p)) / (0.48045)))\n",
    "\n",
    "# hash functions required not to go above the allowed error rate\n",
    "k = m/n * np.log(2) # round(k) = 4"
   ]
  },
  {
   "cell_type": "code",
   "execution_count": 8,
   "metadata": {},
   "outputs": [
    {
     "data": {
      "image/png": "[encoded data removed]",
      "text/plain": [
       "<Figure size 432x288 with 1 Axes>"
      ]
     },
     "metadata": {},
     "output_type": "display_data"
    },
    {
     "name": "stdout",
     "output_type": "stream",
     "text": [
      "Average FPR: 4.0\n"
     ]
    }
   ],
   "source": [
    "testset = [i*200 for i in range(20)]\n",
    "resultset = []\n",
    "for sz in testset:\n",
    "    array = [0] * m\n",
    "\n",
    "    my_random_list = list(range(sz-200,sz))\n",
    "    not_my_random_list = list(range(sz+1,sz+200))\n",
    "    insert(my_random_list)\n",
    "\n",
    "    count = 0\n",
    "\n",
    "    for i in not_my_random_list:\n",
    "        if lookup(i, array) == True:\n",
    "            count+=1\n",
    "    resultset.append(count)\n",
    "    \n",
    "# importing the required module \n",
    "import matplotlib.pyplot as plt \n",
    "  \n",
    "x, y = testset, resultset\n",
    "  \n",
    "# plotting the points  \n",
    "plt.plot(x, y) \n",
    "  \n",
    "# naming the x axis \n",
    "plt.xlabel('Element Range') \n",
    "# naming the y axis \n",
    "plt.ylabel('False Positive Rate') \n",
    "  \n",
    "# giving a title to my graph \n",
    "plt.title('False Positives') \n",
    "  \n",
    "# function to show the plot \n",
    "plt.show() \n",
    "\n",
    "print(\"Average FPR:\", sum(resultset)/len(resultset))"
   ]
  },
  {
   "cell_type": "markdown",
   "metadata": {},
   "source": [
    "In the beggining of the notebook, you can see that we have set the False Positive Rate to 5%. When taking a list of 100 elements the FPR is 8.35% (from the first graph), whereas taking 200 elements at once the FPR rate is 4% (the second graph). The way we conduct this experiment is by choosing a list of 100 elements to be inserted, and we create another list of 100 elements which are not part of the first list. Then, we check how many times does the counting bloom filter return the element as being in the list (while we do know for sure the element is not in the list).\n",
    "\n",
    "_The findings:_ \n",
    "\n",
    "1. The bigger the number of elements in the list, the smaller the error rate. However, that requires more space (in bits) to accomodate every element without causing many collisions.\n",
    "\n",
    "2. Theoretically we expect the error rate to be 5%, according to the formula. However, we see that that changes depending on the number of the elements. It also matters how normally are the elements distributed. In both cases we have a pretty uniform distribution (see range), but altering the code to insert no replacement may reduce the false positive error rate, as we avoid collisions. \n",
    "\n"
   ]
  },
  {
   "cell_type": "markdown",
   "metadata": {},
   "source": [
    "**Memory size as a function of the false-positive rate:**\n",
    "\n",
    "From the formula we see that the negative value of the numbers of items to be stored is multiplied by the logarithmic false positive rate, which has a direct relationship with the memory size (a growth in memory is associated with a growth in FPR). \n",
    "\n",
    "\n",
    "$m = (-n*log(p)) / (0.48045)$"
   ]
  },
  {
   "cell_type": "markdown",
   "metadata": {},
   "source": [
    "**Memory size as a function of the number of items stored:**\n",
    "\n",
    "Similarly, there is a direct relationship between memory size and items stored, except that the items stored has a negative value. In this case a growth in memory size, is associated with lowering increasing n, but negatively.\n",
    "\n",
    "\n",
    "$m = (-n*log(p)) / (0.48045)$"
   ]
  },
  {
   "cell_type": "markdown",
   "metadata": {},
   "source": [
    "**Access time as a function of the false-positive rate**\n",
    "\n",
    "It depends on the time k-hash functions and the final bloom filter. The algorithm is very space-efficient and looks up very fast. The smaller the final bloom filter, the more chances for high false positive rates. Therefore, some extra space is used to reduce the false positive rates."
   ]
  },
  {
   "cell_type": "markdown",
   "metadata": {},
   "source": [
    "**Access time as a function of the number of items stored**\n",
    "\n"
   ]
  },
  {
   "cell_type": "markdown",
   "metadata": {},
   "source": [
    "The bloom filter has a set size, that's why we decide priorly how many items do we want to store so that we can create a filter with optimal bits. If the number of list exceeds, then the positive false rates will also exceed. B"
   ]
  }
 ],
 "metadata": {
  "kernelspec": {
   "display_name": "Python 3",
   "language": "python",
   "name": "python3"
  },
  "language_info": {
   "codemirror_mode": {
    "name": "ipython",
    "version": 3
   },
   "file_extension": ".py",
   "mimetype": "text/x-python",
   "name": "python",
   "nbconvert_exporter": "python",
   "pygments_lexer": "ipython3",
   "version": "3.6.5"
  }
 },
 "nbformat": 4,
 "nbformat_minor": 2
}
